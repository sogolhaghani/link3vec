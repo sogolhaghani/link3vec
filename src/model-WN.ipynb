{
 "cells": [
  {
   "cell_type": "code",
   "execution_count": 2,
   "metadata": {},
   "outputs": [],
   "source": [
    "import pandas as pd\n",
    "import numpy as np"
   ]
  },
  {
   "cell_type": "code",
   "execution_count": 3,
   "metadata": {},
   "outputs": [],
   "source": [
    "train = pd.read_csv(\"../data/WN18/train.txt\",delimiter=\"\\t\", header=None)\n",
    "test = pd.read_csv(\"../data/WN18/test.txt\",delimiter=\"\\t\", header=None)\n",
    "validation = pd.read_csv(\"../data/WN18/valid.txt\",delimiter=\"\\t\", header=None)\n",
    "train.columns = ['Header', 'Tail', 'Relation']\n",
    "test.columns = ['Header', 'Tail', 'Relation']\n",
    "validation.columns = ['Header', 'Tail', 'Relation']"
   ]
  },
  {
   "cell_type": "code",
   "execution_count": 4,
   "metadata": {},
   "outputs": [],
   "source": [
    "entities = pd.concat([train.Header, train.Tail])\n",
    "entities = pd.DataFrame(entities,columns=['ID'])\n",
    "entities = entities.groupby('ID').ID.agg(['count']).reset_index()\n"
   ]
  },
  {
   "cell_type": "code",
   "execution_count": 5,
   "metadata": {},
   "outputs": [],
   "source": [
    "relations = pd.DataFrame([], columns=['ID'])\n",
    "relations['ID'] = train.Relation\n",
    "relations = relations.groupby('ID').ID.agg(['count']).reset_index()"
   ]
  },
  {
   "cell_type": "code",
   "execution_count": 9,
   "metadata": {},
   "outputs": [
    {
     "data": {
      "text/html": [
       "<div>\n",
       "<style scoped>\n",
       "    .dataframe tbody tr th:only-of-type {\n",
       "        vertical-align: middle;\n",
       "    }\n",
       "\n",
       "    .dataframe tbody tr th {\n",
       "        vertical-align: top;\n",
       "    }\n",
       "\n",
       "    .dataframe thead th {\n",
       "        text-align: right;\n",
       "    }\n",
       "</style>\n",
       "<table border=\"1\" class=\"dataframe\">\n",
       "  <thead>\n",
       "    <tr style=\"text-align: right;\">\n",
       "      <th></th>\n",
       "      <th>ID</th>\n",
       "      <th>count</th>\n",
       "    </tr>\n",
       "  </thead>\n",
       "  <tbody>\n",
       "    <tr>\n",
       "      <th>0</th>\n",
       "      <td>_also_see</td>\n",
       "      <td>1299</td>\n",
       "    </tr>\n",
       "    <tr>\n",
       "      <th>1</th>\n",
       "      <td>_derivationally_related_form</td>\n",
       "      <td>29715</td>\n",
       "    </tr>\n",
       "    <tr>\n",
       "      <th>2</th>\n",
       "      <td>_has_part</td>\n",
       "      <td>4816</td>\n",
       "    </tr>\n",
       "    <tr>\n",
       "      <th>3</th>\n",
       "      <td>_hypernym</td>\n",
       "      <td>34796</td>\n",
       "    </tr>\n",
       "    <tr>\n",
       "      <th>4</th>\n",
       "      <td>_hyponym</td>\n",
       "      <td>34832</td>\n",
       "    </tr>\n",
       "    <tr>\n",
       "      <th>5</th>\n",
       "      <td>_instance_hypernym</td>\n",
       "      <td>2921</td>\n",
       "    </tr>\n",
       "    <tr>\n",
       "      <th>6</th>\n",
       "      <td>_instance_hyponym</td>\n",
       "      <td>2935</td>\n",
       "    </tr>\n",
       "    <tr>\n",
       "      <th>7</th>\n",
       "      <td>_member_holonym</td>\n",
       "      <td>7382</td>\n",
       "    </tr>\n",
       "    <tr>\n",
       "      <th>8</th>\n",
       "      <td>_member_meronym</td>\n",
       "      <td>7402</td>\n",
       "    </tr>\n",
       "    <tr>\n",
       "      <th>9</th>\n",
       "      <td>_member_of_domain_region</td>\n",
       "      <td>923</td>\n",
       "    </tr>\n",
       "    <tr>\n",
       "      <th>10</th>\n",
       "      <td>_member_of_domain_topic</td>\n",
       "      <td>3118</td>\n",
       "    </tr>\n",
       "    <tr>\n",
       "      <th>11</th>\n",
       "      <td>_member_of_domain_usage</td>\n",
       "      <td>629</td>\n",
       "    </tr>\n",
       "    <tr>\n",
       "      <th>12</th>\n",
       "      <td>_part_of</td>\n",
       "      <td>4805</td>\n",
       "    </tr>\n",
       "    <tr>\n",
       "      <th>13</th>\n",
       "      <td>_similar_to</td>\n",
       "      <td>80</td>\n",
       "    </tr>\n",
       "    <tr>\n",
       "      <th>14</th>\n",
       "      <td>_synset_domain_region_of</td>\n",
       "      <td>903</td>\n",
       "    </tr>\n",
       "    <tr>\n",
       "      <th>15</th>\n",
       "      <td>_synset_domain_topic_of</td>\n",
       "      <td>3116</td>\n",
       "    </tr>\n",
       "    <tr>\n",
       "      <th>16</th>\n",
       "      <td>_synset_domain_usage_of</td>\n",
       "      <td>632</td>\n",
       "    </tr>\n",
       "    <tr>\n",
       "      <th>17</th>\n",
       "      <td>_verb_group</td>\n",
       "      <td>1138</td>\n",
       "    </tr>\n",
       "  </tbody>\n",
       "</table>\n",
       "</div>"
      ],
      "text/plain": [
       "                              ID  count\n",
       "0                      _also_see   1299\n",
       "1   _derivationally_related_form  29715\n",
       "2                      _has_part   4816\n",
       "3                      _hypernym  34796\n",
       "4                       _hyponym  34832\n",
       "5             _instance_hypernym   2921\n",
       "6              _instance_hyponym   2935\n",
       "7                _member_holonym   7382\n",
       "8                _member_meronym   7402\n",
       "9       _member_of_domain_region    923\n",
       "10       _member_of_domain_topic   3118\n",
       "11       _member_of_domain_usage    629\n",
       "12                      _part_of   4805\n",
       "13                   _similar_to     80\n",
       "14      _synset_domain_region_of    903\n",
       "15       _synset_domain_topic_of   3116\n",
       "16       _synset_domain_usage_of    632\n",
       "17                   _verb_group   1138"
      ]
     },
     "execution_count": 9,
     "metadata": {},
     "output_type": "execute_result"
    }
   ],
   "source": [
    "relations"
   ]
  },
  {
   "cell_type": "code",
   "execution_count": 5,
   "metadata": {},
   "outputs": [],
   "source": [
    "test['Head_idx'] = test.index.map(mapper=(lambda x : entities.index[entities.ID == test.Header[x]].tolist()[0]))\n",
    "test['Tail_idx'] = test.index.map(mapper=(lambda x : entities.index[entities.ID == test.Tail[x]].tolist()[0]))\n",
    "\n",
    "train['Head_idx'] = train.index.map(mapper=(lambda x : entities.index[entities.ID == train.Header[x]].tolist()[0]))\n",
    "train['Tail_idx'] = train.index.map(mapper=(lambda x : entities.index[entities.ID == train.Tail[x]].tolist()[0]))\n",
    "\n",
    "validation['Head_idx'] = validation.index.map(mapper=(lambda x : entities.index[entities.ID == validation.Header[x]].tolist()[0]))\n",
    "validation['Tail_idx'] = validation.index.map(mapper=(lambda x : entities.index[entities.ID == validation.Tail[x]].tolist()[0]))\n",
    "\n",
    "train['Relation_idx'] = train.index.map(mapper=(lambda x : relations.index[relations.ID == train.Relation[x]].tolist()[0]))\n",
    "test['Relation_idx'] = test.index.map(mapper=(lambda x : relations.index[relations.ID == test.Relation[x]].tolist()[0]))\n",
    "validation['Relation_idx'] = validation.index.map(mapper=(lambda x : relations.index[relations.ID == validation.Relation[x]].tolist()[0]))\n",
    "\n",
    "train = train.drop(['Header', 'Tail', 'Relation'], axis=1)\n",
    "test = test.drop(['Header', 'Tail', 'Relation'], axis=1)\n",
    "validation = validation.drop(['Header', 'Tail', 'Relation'], axis=1)\n",
    "\n",
    "train = train.to_numpy()\n",
    "test = test.to_numpy()\n",
    "validation = validation.to_numpy()"
   ]
  },
  {
   "cell_type": "code",
   "execution_count": 6,
   "metadata": {},
   "outputs": [],
   "source": [
    "totalWords = sum([freq[1] **(3/4) for freq in entities.values])     \n",
    "entities['Probability'] = (entities['count']**(3/4) / totalWords)\n",
    "\n",
    "totalWords = sum([freq[1] **(3/4) for freq in relations.values])     \n",
    "relations['Probability'] = (relations['count']**(3/4) / totalWords)"
   ]
  },
  {
   "cell_type": "code",
   "execution_count": 7,
   "metadata": {},
   "outputs": [],
   "source": [
    "entities.reset_index(level=0, inplace=True)\n",
    "entities = entities.drop(['ID'], axis=1)\n",
    "entities = entities.to_numpy()\n",
    "\n",
    "relations.reset_index(level=0, inplace=True)\n",
    "relations = relations.drop(['ID'], axis=1)\n",
    "relations = relations.to_numpy()"
   ]
  },
  {
   "cell_type": "code",
   "execution_count": 9,
   "metadata": {},
   "outputs": [],
   "source": [
    "np.save('../data/WN18_numpy/train.npy', train)\n",
    "np.save('../data/WN18_numpy/validation.npy', validation)\n",
    "np.save('../data/WN18_numpy/test.npy', test)\n",
    "\n",
    "np.save('../data/WN18_numpy/entities.npy', entities)\n",
    "np.save('../data/WN18_numpy/relations.npy', relations)"
   ]
  }
 ],
 "metadata": {
  "interpreter": {
   "hash": "862fa031424e88b0ec9091c7f0249de4f2bbf63637f1a496f822f0693a47033d"
  },
  "kernelspec": {
   "display_name": "Python 3.7.11 ('base')",
   "language": "python",
   "name": "python3"
  },
  "language_info": {
   "codemirror_mode": {
    "name": "ipython",
    "version": 3
   },
   "file_extension": ".py",
   "mimetype": "text/x-python",
   "name": "python",
   "nbconvert_exporter": "python",
   "pygments_lexer": "ipython3",
   "version": "3.7.11"
  },
  "orig_nbformat": 4
 },
 "nbformat": 4,
 "nbformat_minor": 2
}

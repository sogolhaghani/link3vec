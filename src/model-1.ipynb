{
 "cells": [
  {
   "cell_type": "code",
   "execution_count": 1,
   "metadata": {},
   "outputs": [
    {
     "name": "stderr",
     "output_type": "stream",
     "text": [
      "/home/sogol/anaconda3/lib/python3.7/site-packages/tensorflow-2.0.0b1-py3.7-linux-x86_64.egg/tensorflow/python/framework/dtypes.py:516: FutureWarning: Passing (type, 1) or '1type' as a synonym of type is deprecated; in a future version of numpy, it will be understood as (type, (1,)) / '(1,)type'.\n",
      "  _np_qint8 = np.dtype([(\"qint8\", np.int8, 1)])\n",
      "/home/sogol/anaconda3/lib/python3.7/site-packages/tensorflow-2.0.0b1-py3.7-linux-x86_64.egg/tensorflow/python/framework/dtypes.py:517: FutureWarning: Passing (type, 1) or '1type' as a synonym of type is deprecated; in a future version of numpy, it will be understood as (type, (1,)) / '(1,)type'.\n",
      "  _np_quint8 = np.dtype([(\"quint8\", np.uint8, 1)])\n",
      "/home/sogol/anaconda3/lib/python3.7/site-packages/tensorflow-2.0.0b1-py3.7-linux-x86_64.egg/tensorflow/python/framework/dtypes.py:518: FutureWarning: Passing (type, 1) or '1type' as a synonym of type is deprecated; in a future version of numpy, it will be understood as (type, (1,)) / '(1,)type'.\n",
      "  _np_qint16 = np.dtype([(\"qint16\", np.int16, 1)])\n",
      "/home/sogol/anaconda3/lib/python3.7/site-packages/tensorflow-2.0.0b1-py3.7-linux-x86_64.egg/tensorflow/python/framework/dtypes.py:519: FutureWarning: Passing (type, 1) or '1type' as a synonym of type is deprecated; in a future version of numpy, it will be understood as (type, (1,)) / '(1,)type'.\n",
      "  _np_quint16 = np.dtype([(\"quint16\", np.uint16, 1)])\n",
      "/home/sogol/anaconda3/lib/python3.7/site-packages/tensorflow-2.0.0b1-py3.7-linux-x86_64.egg/tensorflow/python/framework/dtypes.py:520: FutureWarning: Passing (type, 1) or '1type' as a synonym of type is deprecated; in a future version of numpy, it will be understood as (type, (1,)) / '(1,)type'.\n",
      "  _np_qint32 = np.dtype([(\"qint32\", np.int32, 1)])\n",
      "/home/sogol/anaconda3/lib/python3.7/site-packages/tensorflow-2.0.0b1-py3.7-linux-x86_64.egg/tensorflow/python/framework/dtypes.py:525: FutureWarning: Passing (type, 1) or '1type' as a synonym of type is deprecated; in a future version of numpy, it will be understood as (type, (1,)) / '(1,)type'.\n",
      "  np_resource = np.dtype([(\"resource\", np.ubyte, 1)])\n",
      "/home/sogol/anaconda3/lib/python3.7/site-packages/tb_nightly-1.14.0a20190603-py3.7.egg/tensorboard/compat/tensorflow_stub/dtypes.py:541: FutureWarning: Passing (type, 1) or '1type' as a synonym of type is deprecated; in a future version of numpy, it will be understood as (type, (1,)) / '(1,)type'.\n",
      "  _np_qint8 = np.dtype([(\"qint8\", np.int8, 1)])\n",
      "/home/sogol/anaconda3/lib/python3.7/site-packages/tb_nightly-1.14.0a20190603-py3.7.egg/tensorboard/compat/tensorflow_stub/dtypes.py:542: FutureWarning: Passing (type, 1) or '1type' as a synonym of type is deprecated; in a future version of numpy, it will be understood as (type, (1,)) / '(1,)type'.\n",
      "  _np_quint8 = np.dtype([(\"quint8\", np.uint8, 1)])\n",
      "/home/sogol/anaconda3/lib/python3.7/site-packages/tb_nightly-1.14.0a20190603-py3.7.egg/tensorboard/compat/tensorflow_stub/dtypes.py:543: FutureWarning: Passing (type, 1) or '1type' as a synonym of type is deprecated; in a future version of numpy, it will be understood as (type, (1,)) / '(1,)type'.\n",
      "  _np_qint16 = np.dtype([(\"qint16\", np.int16, 1)])\n",
      "/home/sogol/anaconda3/lib/python3.7/site-packages/tb_nightly-1.14.0a20190603-py3.7.egg/tensorboard/compat/tensorflow_stub/dtypes.py:544: FutureWarning: Passing (type, 1) or '1type' as a synonym of type is deprecated; in a future version of numpy, it will be understood as (type, (1,)) / '(1,)type'.\n",
      "  _np_quint16 = np.dtype([(\"quint16\", np.uint16, 1)])\n",
      "/home/sogol/anaconda3/lib/python3.7/site-packages/tb_nightly-1.14.0a20190603-py3.7.egg/tensorboard/compat/tensorflow_stub/dtypes.py:545: FutureWarning: Passing (type, 1) or '1type' as a synonym of type is deprecated; in a future version of numpy, it will be understood as (type, (1,)) / '(1,)type'.\n",
      "  _np_qint32 = np.dtype([(\"qint32\", np.int32, 1)])\n",
      "/home/sogol/anaconda3/lib/python3.7/site-packages/tb_nightly-1.14.0a20190603-py3.7.egg/tensorboard/compat/tensorflow_stub/dtypes.py:550: FutureWarning: Passing (type, 1) or '1type' as a synonym of type is deprecated; in a future version of numpy, it will be understood as (type, (1,)) / '(1,)type'.\n",
      "  np_resource = np.dtype([(\"resource\", np.ubyte, 1)])\n"
     ]
    }
   ],
   "source": [
    "import pandas as pd\n",
    "import random\n",
    "import numpy as np\n",
    "import tensorflow as tf"
   ]
  },
  {
   "cell_type": "code",
   "execution_count": 2,
   "metadata": {},
   "outputs": [],
   "source": [
    "train = pd.read_csv(\"data/freebase15k/train.txt\",delimiter=\"\\t\", header=None)\n",
    "test = pd.read_csv(\"data/freebase15k/test.txt\",delimiter=\"\\t\", header=None)\n",
    "validation = pd.read_csv(\"data/freebase15k/valid.txt\",delimiter=\"\\t\", header=None)\n",
    "train.columns = ['Header', 'Relation', 'Tail']\n",
    "test.columns = ['Header', 'Relation', 'Tail']\n",
    "validation.columns = ['Header', 'Relation', 'Tail']"
   ]
  },
  {
   "cell_type": "code",
   "execution_count": 3,
   "metadata": {},
   "outputs": [],
   "source": [
    "entities = pd.concat([train.Header, train.Tail])\n",
    "entities = pd.DataFrame(entities,columns=['ID'])\n",
    "entities = entities.groupby('ID').ID.agg(['count']).reset_index()\n",
    "# entities"
   ]
  },
  {
   "cell_type": "code",
   "execution_count": 4,
   "metadata": {},
   "outputs": [],
   "source": [
    "relations = pd.DataFrame([], columns=['ID'])\n",
    "relations['ID'] = train.Relation\n",
    "relations = relations.groupby('ID').ID.agg(['count']).reset_index()\n",
    "# relations"
   ]
  },
  {
   "cell_type": "code",
   "execution_count": 5,
   "metadata": {},
   "outputs": [],
   "source": [
    "iteration = 500\n",
    "dim = 100\n",
    "kns = 1\n",
    "alpha = 0.000001\n",
    "beta = 0.0000001\n",
    "\n",
    "nn1 = np.random.uniform(low=-0.5 / 100, high=0.5 / 100, size=(entities.shape[0], 100))\n",
    "nn0 = np.random.uniform(low=-0.5 / 100, high=0.5 / 100, size=(entities.shape[0], 100))\n",
    "nn2 = np.random.uniform(low=-0.5 / 100, high=0.5 / 100, size=(relations.shape[0],100))"
   ]
  },
  {
   "cell_type": "code",
   "execution_count": 6,
   "metadata": {},
   "outputs": [],
   "source": [
    "totalWords = sum([freq[1] **(3/4) for freq in entities.values])     \n",
    "entities['Probability'] = (entities['count']**(3/4) / totalWords)"
   ]
  },
  {
   "cell_type": "code",
   "execution_count": 7,
   "metadata": {},
   "outputs": [],
   "source": [
    "def sigmoid(x):  \n",
    "    return np.exp(-np.logaddexp(0, -x))"
   ]
  },
  {
   "cell_type": "code",
   "execution_count": 8,
   "metadata": {},
   "outputs": [],
   "source": [
    "def calculateRank(triple):\n",
    "    triple=list(triple)\n",
    "    _target_index = [entities.ID[ entities.ID == triple[2]].index[0]]\n",
    "    _head_index = [entities.ID[entities.ID == triple[0]].index[0]]\n",
    "    _relation_index = [relations.ID[relations.ID == triple[1]].index[0]]\n",
    "    courapted = pd.MultiIndex.from_product([ _head_index,_relation_index, entities.iloc[:].index.tolist()], names = [\"Head\", \"Relation\", \"Tail\"])\n",
    "    courapted =pd.DataFrame(index = courapted).reset_index()\n",
    "    courapted = courapted.append(pd.DataFrame(index = pd.MultiIndex.from_product([ entities.iloc[:].index.tolist(),_relation_index,_target_index ], names = [\"Head\", \"Relation\", \"Tail\"])).reset_index())\n",
    "    \n",
    "    p = tf.math.sigmoid(tf.tensordot(tf.convert_to_tensor(nn1[courapted.Tail.values],dtype=tf.float32),tf.convert_to_tensor(np.transpose(nn0[courapted.Head.values] + nn2[courapted.Relation.values ]),dtype=tf.float32),axes=1 ))\n",
    "    courapted['Score'] =tf.linalg.diag_part(p)\n",
    "    courapted = courapted.sort_values(by=['Score'], ascending=False)\n",
    "    courapted['Rank'] = courapted['Score'].rank(ascending=False)\n",
    "    return courapted[(courapted['Head'] == _head_index[0]) & (courapted['Tail'] == _target_index[0]) & (courapted['Relation'] == _relation_index[0])].iloc[0].Rank"
   ]
  },
  {
   "cell_type": "code",
   "execution_count": 9,
   "metadata": {},
   "outputs": [],
   "source": [
    "def mrr(ranks):\n",
    "    inverse = []\n",
    "    for rank in ranks:\n",
    "        inverse.append(float(1)/rank)\n",
    "    summ = sum(inverse)\n",
    "    return float(1)/len(inverse) * summ"
   ]
  },
  {
   "cell_type": "code",
   "execution_count": 10,
   "metadata": {},
   "outputs": [
    {
     "name": "stderr",
     "output_type": "stream",
     "text": [
      "2021-11-20 16:40:18.431715: I tensorflow/core/platform/cpu_feature_guard.cc:142] Your CPU supports instructions that this TensorFlow binary was not compiled to use: AVX2 FMA\n",
      "2021-11-20 16:40:18.467922: I tensorflow/core/platform/profile_utils/cpu_utils.cc:94] CPU Frequency: 2199995000 Hz\n",
      "2021-11-20 16:40:18.468310: I tensorflow/compiler/xla/service/service.cc:168] XLA service 0x560bbf8a7200 executing computations on platform Host. Devices:\n",
      "2021-11-20 16:40:18.468340: I tensorflow/compiler/xla/service/service.cc:175]   StreamExecutor device (0): <undefined>, <undefined>\n",
      "2021-11-20 16:40:18.506463: W tensorflow/core/framework/cpu_allocator_impl.cc:81] Allocation of 3576518416 exceeds 10% of system memory.\n",
      "2021-11-20 16:40:19.863409: W tensorflow/core/framework/cpu_allocator_impl.cc:81] Allocation of 3576518416 exceeds 10% of system memory.\n",
      "2021-11-20 16:40:20.667778: W tensorflow/core/framework/cpu_allocator_impl.cc:81] Allocation of 3576518416 exceeds 10% of system memory.\n",
      "2021-11-20 16:40:21.984366: W tensorflow/core/framework/cpu_allocator_impl.cc:81] Allocation of 3576518416 exceeds 10% of system memory.\n",
      "2021-11-20 16:40:22.786431: W tensorflow/core/framework/cpu_allocator_impl.cc:81] Allocation of 3576518416 exceeds 10% of system memory.\n"
     ]
    }
   ],
   "source": [
    "for x in range(0 , iteration):\n",
    "    # random.shuffle(train)\n",
    "    for triple in train.values:\n",
    "        negative_samples = [(target, 0) for target in (np.random.choice(entities['ID'].values,size = kns, p=entities['Probability'].values))]\n",
    "        classifiers = [(triple[2], 1)] + negative_samples\n",
    "        random.shuffle(classifiers)\n",
    "        neu1e = np.zeros(dim)\n",
    "        for target, label in classifiers:\n",
    "            _target_index = entities.ID[entities.ID==target ].index[0]\n",
    "            _head_index = entities.ID[entities.ID == triple[0]].index[0]\n",
    "            _relation_index = relations.ID[relations.ID == triple[1]].index[0]\n",
    "            z = np.dot(nn1[_target_index], nn0[_head_index] + nn2[_relation_index])\n",
    "            p = sigmoid(z)\n",
    "            g = alpha * (label - p)\n",
    "            g1 = beta * (label - p)\n",
    "            neu1e += (g * nn1[_target_index] + g1 * nn2[_relation_index])\n",
    "            nn1[_target_index] += g * nn0[_head_index]\n",
    "            nn2[_relation_index] += g * nn0[_head_index] \n",
    "        nn0[_head_index] +=neu1e\n",
    "    if x % 10 == 0 and x > 20:\n",
    "        validation['Rank'] = validation.apply(calculateRank, axis=1)\n",
    "        print(mrr(validation.Rank))"
   ]
  }
 ],
 "metadata": {
  "interpreter": {
   "hash": "9237305bcc91a5313a58a70b2212d12fb38f072f1ee5d33405bbdd8883b6ee38"
  },
  "kernelspec": {
   "display_name": "Python 3.7.6 64-bit ('base': conda)",
   "name": "python3"
  },
  "language_info": {
   "codemirror_mode": {
    "name": "ipython",
    "version": 3
   },
   "file_extension": ".py",
   "mimetype": "text/x-python",
   "name": "python",
   "nbconvert_exporter": "python",
   "pygments_lexer": "ipython3",
   "version": "3.7.7"
  },
  "orig_nbformat": 4
 },
 "nbformat": 4,
 "nbformat_minor": 2
}

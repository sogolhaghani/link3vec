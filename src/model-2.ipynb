{
 "cells": [
  {
   "cell_type": "code",
   "execution_count": 257,
   "metadata": {},
   "outputs": [],
   "source": [
    "import numpy as np\n",
    "import tensorflow as tf\n",
    "import time"
   ]
  },
  {
   "cell_type": "code",
   "execution_count": 258,
   "metadata": {},
   "outputs": [],
   "source": [
    "# gpu_available = tf.test.is_gpu_available()\n",
    "# is_cuda_gpu_available = tf.test.is_gpu_available(cuda_only=True)\n",
    "# is_cuda_gpu_min_3 = tf.test.is_gpu_available(True, (3,0))\n",
    "# is_cuda_gpu_min_3"
   ]
  },
  {
   "cell_type": "code",
   "execution_count": 259,
   "metadata": {},
   "outputs": [
    {
     "data": {
      "text/plain": [
       "array([[ 0,  1],\n",
       "       [ 1,  1],\n",
       "       [ 2,  1],\n",
       "       ...,\n",
       "       [62,  1],\n",
       "       [63, 32],\n",
       "       [64, 14]], dtype=int8)"
      ]
     },
     "execution_count": 259,
     "metadata": {},
     "output_type": "execute_result"
    }
   ],
   "source": [
    "train = np.load('../data/freebase15k_numpy/train.npy')\n",
    "validation = np.load('../data/freebase15k_numpy/validation.npy')\n",
    "test = np.load('../data/freebase15k_numpy/test.npy')\n",
    "\n",
    "entities = np.load('../data/freebase15k_numpy/entities.npy')\n",
    "relations = np.load('../data/freebase15k_numpy/relations.npy')\n",
    "\n",
    "train.astype(dtype=np.int8)\n",
    "validation.astype(dtype=np.int8)\n",
    "test.astype(dtype=np.int8)\n",
    "relations.astype(dtype=np.int8)\n"
   ]
  },
  {
   "cell_type": "code",
   "execution_count": 260,
   "metadata": {},
   "outputs": [],
   "source": [
    "iteration = 500\n",
    "dim = 100\n",
    "kns = 20\n",
    "alpha = 0.000001\n",
    "beta = 0.0000001\n",
    "\n",
    "nn1 = np.random.uniform(low=-0.5 / 100, high=0.5 / 100, size=(entities.shape[0], 100))\n",
    "nn0 = np.random.uniform(low=-0.5 / 100, high=0.5 / 100, size=(entities.shape[0], 100))\n",
    "nn2 = np.random.uniform(low=-0.5 / 100, high=0.5 / 100, size=(relations.shape[0],100))"
   ]
  },
  {
   "cell_type": "code",
   "execution_count": 261,
   "metadata": {},
   "outputs": [],
   "source": [
    "def sigmoid(x):  \n",
    "    return np.exp(-np.logaddexp(0, -x))"
   ]
  },
  {
   "cell_type": "code",
   "execution_count": 262,
   "metadata": {},
   "outputs": [],
   "source": [
    "def calculateRank(triple):   \n",
    "    selectedEntities = entities[:,0]\n",
    "    if(len((np.where((train[:,1] == triple[1]) & (train[:,2] == triple[2]))[0]))> 0):\n",
    "        selectedEntities = np.where(np.isin(selectedEntities , train[np.where((train[:,1] ==triple[1]) & (train[:,2] ==triple[2]))][0], invert =True ))[0]\n",
    "    if(len((np.where((test[:,1] == triple[1]) & (test[:,2] == triple[2]))[0]))> 0):\n",
    "        selectedEntities = np.where(np.isin(selectedEntities , test[np.where((test[:,1] ==triple[1]) & (test[:,2] ==triple[2]))][0], invert =True ))[0]\n",
    "    if(len((np.where((validation[:,1] == triple[1]) & (validation[:,2] == triple[2]))[0]))> 0):\n",
    "        selectedEntities = np.where(np.isin(selectedEntities , validation[np.where((validation[:,1] ==triple[1]) & (validation[:,2] ==triple[2]))][0], invert =True ))[0]\n",
    "    couraptedH = np.empty((selectedEntities.shape[0],3))\n",
    "    couraptedH[:,0] =selectedEntities\n",
    "    couraptedH[:,1] =triple[1]\n",
    "    couraptedH[:,2] =triple[2]\n",
    "    \n",
    "    selectedEntities = entities[:,0]\n",
    "    if(len((np.where((train[:,0] == triple[0]) & (train[:,2] == triple[2]))[0]))> 0):\n",
    "        selectedEntities = np.where(np.isin(selectedEntities , train[np.where((train[:,0] == triple[0]) & (train[:,2] == triple[2]))][0], invert =True ))[0]\n",
    "    if(len((np.where((test[:,0] == triple[0]) & (test[:,2] == triple[2]))[0]))> 0):\n",
    "        selectedEntities = np.where(np.isin(selectedEntities , test[np.where((test[:,0] ==triple[0]) & (test[:,2] ==triple[2]))][0], invert =True ))[0]\n",
    "    if(len((np.where((validation[:,0] == triple[0]) & (validation[:,2] == triple[2]))[0]))> 0):\n",
    "        selectedEntities = np.where(np.isin(selectedEntities , validation[np.where((validation[:,0] ==triple[0]) & (validation[:,2] ==triple[2]))][0], invert =True ))[0]\n",
    "    couraptedT = np.empty((selectedEntities.shape[0],3))\n",
    "    couraptedT[:,0] = triple[0]\n",
    "    couraptedT[:,1] = selectedEntities\n",
    "    couraptedT[:,2] =triple[2]\n",
    "    courapted = np.concatenate((couraptedH, couraptedT), axis=0)\n",
    "    courapted = courapted.astype(np.int16)\n",
    "    courapted = np.vstack([courapted, triple])\n",
    "    \n",
    "    p =  tf.linalg.diag_part(tf.math.sigmoid(tf.tensordot(tf.convert_to_tensor(nn1[courapted[:,1]],dtype=tf.float32),tf.convert_to_tensor(tf.transpose(tf.convert_to_tensor(nn0[courapted[:,0]],dtype=tf.float32) + tf.convert_to_tensor(nn2[triple[2]],dtype=tf.float32) ),dtype=tf.float32),axes=1 )))\n",
    "    \n",
    "    courapted =np.concatenate((courapted, p[:, None]), axis=1)\n",
    "    courapted = courapted[np.argsort(courapted[:, -3])]\n",
    "    return np.where((courapted[:,0] == triple[0]) & (courapted[:,1] == triple[1]))[0][0]"
   ]
  },
  {
   "cell_type": "code",
   "execution_count": 263,
   "metadata": {},
   "outputs": [],
   "source": [
    "def mrr(ranks):\n",
    "    inverse = []\n",
    "    for rank in ranks:\n",
    "        inverse.append(float(1)/rank)\n",
    "    summ = sum(inverse)\n",
    "    return float(1)/len(inverse) * summ"
   ]
  },
  {
   "cell_type": "code",
   "execution_count": 264,
   "metadata": {},
   "outputs": [
    {
     "name": "stdout",
     "output_type": "stream",
     "text": [
      "total one sample calc time =>   2.745074510574341\n"
     ]
    }
   ],
   "source": [
    "start = time.time()\n",
    "# for x in range(0 , iteration):\n",
    "    # random.shuffle(train)\n",
    "    # for triple in train:\n",
    "    #     negative_samples = [(int(target), 0) for target in (np.random.choice(entities[:,0],size = kns, p=entities[:,2]))]\n",
    "    #     classifiers = [(triple[1], 1)] + negative_samples\n",
    "    #     # random.shuffle(classifiers)\n",
    "    #     neu1e = np.zeros(dim)\n",
    "    #     for target, label in classifiers:\n",
    "    #         _target_index = target\n",
    "    #         _head_index = triple[0]\n",
    "    #         _relation_index = triple[2]\n",
    "    #         z = np.dot(nn1[_target_index], nn0[_head_index] + nn2[_relation_index])\n",
    "    #         p = sigmoid(z)\n",
    "    #         g = alpha * (label - p)\n",
    "    #         g1 = beta * (label - p)\n",
    "    #         neu1e += (g * nn1[_target_index] + g1 * nn2[_relation_index])\n",
    "    #         nn1[_target_index] += g * nn0[_head_index]\n",
    "    #         nn2[_relation_index] += g * nn0[_head_index]\n",
    "    # print('total one sample calc time =>  ' , time.time() - start)       \n",
    "    # if x % 10 == 0 and x > 20:\n",
    "_mrrList = []\n",
    "# for triple in validation:\n",
    "_mrrList.append(calculateRank(validation[0,:]))\n",
    "print('total one sample calc time =>  ' , time.time() - start) "
   ]
  }
 ],
 "metadata": {
  "interpreter": {
   "hash": "9237305bcc91a5313a58a70b2212d12fb38f072f1ee5d33405bbdd8883b6ee38"
  },
  "kernelspec": {
   "display_name": "Python 3.7.6 64-bit ('base': conda)",
   "name": "python3"
  },
  "language_info": {
   "codemirror_mode": {
    "name": "ipython",
    "version": 3
   },
   "file_extension": ".py",
   "mimetype": "text/x-python",
   "name": "python",
   "nbconvert_exporter": "python",
   "pygments_lexer": "ipython3",
   "version": "3.7.7"
  },
  "orig_nbformat": 4
 },
 "nbformat": 4,
 "nbformat_minor": 2
}
